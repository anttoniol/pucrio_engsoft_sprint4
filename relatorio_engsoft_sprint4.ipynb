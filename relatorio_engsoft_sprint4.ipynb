{
 "cells": [
  {
   "cell_type": "markdown",
   "metadata": {
    "id": "dSZsh68-RG8M"
   },
   "source": [
    "# **Problema de *Machine Learning***\n",
    "\n",
    "## **Definição do problema**\n",
    "\n",
    "**Descrição**\n",
    "\n",
    "Embora muitas pessoas tenham sido acometidas pelo covid-19, parece que alguns grupos de pacientes foram mais afetados do que outros, por diferentes motivos. Neste trabalho, será estudada se uma pessoa tem mais chance de se infectar e/ou falecer devido ao covid-19, considerando a cor da pele dessa pessoa.\n",
    "\n",
    "\n",
    "**Tipo de problema**\n",
    "\n",
    "Esse problema é de aprendizado supervisionado, pois, com base nos casos de pessoas fornecidos previamente, o modelo será treinado para prever se uma pessoa tem mais chance de falecer devido ao covid-19.\n",
    "\n",
    "**Hipótese**\n",
    "\n",
    "Pessoas afrodescendentes têm mais chance de falecerem devido ao covid-19 do que pessoas brancas no estado de São Paulo.\n",
    "\n",
    "**Restrições e condições**\n",
    "\n",
    "Neste trabalho, os dados utilizados foram disponibilizados pela Fundação SEADE, referentes a vítimas de covid-19 do estado de São Paulo: https://repositorio.seade.gov.br/dataset/covid-19/resource/a730d5c1-7899-4455-8649-68e7e8cc1753\n",
    "\n",
    "\n",
    "**Atributos do dataset**\n",
    "\n",
    "As definições *dos* atributos a seguir também estão disponíveis em https://repositorio.seade.gov.br/dataset/covid-19/resource/f9692def-0c04-4329-8cf9-d1ebbc35c840\n",
    "\n",
    "1. codigo_ibge: código numérico do município no IBGE (7 dígitos) de residência do paciente\n",
    "2. nome_munic: nome do município de residência do paciente\n",
    "3. nome_drs: nome do departamento regional da saúde de residência do paciente\n",
    "4. obito: indica se o paciente veio a óbito por covid-19\n",
    "5. raca_cor: cor ou raça do paciente\n",
    "6. idade: idade do paciente\n",
    "7. cs_sexo sexo do paciente\n",
    "8. diagnostico_covid19: confirmação de covid-19\n",
    "9. asma: paciente tem asma\n",
    "10. cardiopatia: paciente tem cardiopatia\n",
    "11. diabetes: paciente tem diabetes\n",
    "12. doenca_hematologica: paciente tem doença hematológica\n",
    "13. doenca_hepatica: paciente tem doença hepática\n",
    "14. doenca_neurologica: paciente tem doença neurológica\n",
    "15. doenca_renal: paciente tem doença renal\n",
    "16. imunodepressao: paciente tem imunodepressão\n",
    "17. obesidade: paciente tem obesidade\n",
    "18. pneumopatia: paciente tem pneumopatia\n",
    "19. puerpera: paciente é puérpera\n",
    "20. sindrome_de_down: paciente tem síndrome de down"
   ]
  },
  {
   "cell_type": "markdown",
   "metadata": {
    "id": "H3_a0iHcviOZ"
   },
   "source": [
    "## **Preparação de dados**\n",
    "\n",
    "### ***Dataset* de treino e teste**\n",
    "\n",
    "Seja *n* a quantidade de linhas do arquivo disponível em https://media.githubusercontent.com/media/anttoniol/pucrio_ds_sprint2/main/casos_obitos_raca_cor.csv, O *dataset* de treino contém cerca de 75% das linhas do arquivo e os 25% restantes serão utilizados como teste. Cada *dataset* foi gerado de forma pseudoaleatória (devido às limitações da biblioteca *random* do *Python*) e está disponível no repositório."
   ]
  },
  {
   "cell_type": "code",
   "execution_count": 9,
   "metadata": {
    "id": "7XGl4qpRvmPQ"
   },
   "outputs": [],
   "source": [
    "import pandas as pd\n",
    "import matplotlib.pyplot as plt\n",
    "import numpy as np\n",
    "import random"
   ]
  },
  {
   "cell_type": "code",
   "execution_count": 10,
   "metadata": {
    "id": "7ne3OPu3509z"
   },
   "outputs": [],
   "source": [
    "# configuração para não exibir os warnings\n",
    "import warnings\n",
    "warnings.filterwarnings(\"ignore\")\n",
    "\n",
    "# Imports necessários\n",
    "from sklearn.preprocessing import StandardScaler\n",
    "from sklearn.preprocessing import MinMaxScaler\n",
    "from sklearn.model_selection import train_test_split\n",
    "from sklearn.model_selection import KFold\n",
    "from sklearn.model_selection import StratifiedKFold\n",
    "from sklearn.model_selection import cross_val_score\n",
    "from sklearn.model_selection import GridSearchCV\n",
    "from sklearn.metrics import accuracy_score, precision_score, jaccard_score, recall_score\n",
    "from sklearn.pipeline import Pipeline\n",
    "from sklearn.linear_model import LogisticRegression, LinearRegression, Ridge, Lasso\n",
    "from sklearn.tree import DecisionTreeClassifier, DecisionTreeRegressor\n",
    "from sklearn.neighbors import KNeighborsClassifier, KNeighborsRegressor\n",
    "from sklearn.naive_bayes import GaussianNB\n",
    "from sklearn.svm import SVC, SVR\n",
    "from sklearn.ensemble import BaggingClassifier\n",
    "from sklearn.ensemble import RandomForestClassifier\n",
    "from sklearn.ensemble import VotingClassifier\n",
    "from sklearn.ensemble import AdaBoostClassifier\n",
    "from sklearn.ensemble import GradientBoostingClassifier\n",
    "from sklearn.ensemble import ExtraTreesClassifier # ExtraTrees, para a Importância de Atributos\n",
    "from sklearn.feature_selection import SelectKBest # para a Seleção Univariada\n",
    "from sklearn.feature_selection import f_classif # para o teste ANOVA da Seleção Univariada\n",
    "from sklearn.feature_selection import RFE # para a Eliminação Recursiva de Atributos\n",
    "from sklearn.preprocessing import LabelEncoder, OneHotEncoder"
   ]
  },
  {
   "cell_type": "code",
   "execution_count": 11,
   "metadata": {
    "colab": {
     "base_uri": "https://localhost:8080/"
    },
    "id": "yZ7RrfFN4mDE",
    "outputId": "f239a3c0-9c16-4d91-b25f-d364d4dc0d28"
   },
   "outputs": [
    {
     "ename": "KeyboardInterrupt",
     "evalue": "",
     "output_type": "error",
     "traceback": [
      "\u001b[0;31m---------------------------------------------------------------------------\u001b[0m",
      "\u001b[0;31mKeyboardInterrupt\u001b[0m                         Traceback (most recent call last)",
      "Cell \u001b[0;32mIn[11], line 2\u001b[0m\n\u001b[1;32m      1\u001b[0m url \u001b[38;5;241m=\u001b[39m \u001b[38;5;124m\"\u001b[39m\u001b[38;5;124mhttps://media.githubusercontent.com/media/anttoniol/pucrio_ds_sprint2/main/casos_obitos_raca_cor.csv\u001b[39m\u001b[38;5;124m\"\u001b[39m\n\u001b[0;32m----> 2\u001b[0m dataframe \u001b[38;5;241m=\u001b[39m \u001b[43mpd\u001b[49m\u001b[38;5;241;43m.\u001b[39;49m\u001b[43mread_csv\u001b[49m\u001b[43m(\u001b[49m\u001b[43murl\u001b[49m\u001b[43m,\u001b[49m\u001b[43m \u001b[49m\u001b[43msep\u001b[49m\u001b[43m \u001b[49m\u001b[38;5;241;43m=\u001b[39;49m\u001b[43m \u001b[49m\u001b[38;5;124;43m\"\u001b[39;49m\u001b[38;5;124;43m;\u001b[39;49m\u001b[38;5;124;43m\"\u001b[39;49m\u001b[43m)\u001b[49m\n\u001b[1;32m      3\u001b[0m \u001b[38;5;28mlen\u001b[39m(dataframe\u001b[38;5;241m.\u001b[39mindex)\n",
      "File \u001b[0;32m~/projects/pucrio/pucrio-env/lib/python3.10/site-packages/pandas/io/parsers/readers.py:948\u001b[0m, in \u001b[0;36mread_csv\u001b[0;34m(filepath_or_buffer, sep, delimiter, header, names, index_col, usecols, dtype, engine, converters, true_values, false_values, skipinitialspace, skiprows, skipfooter, nrows, na_values, keep_default_na, na_filter, verbose, skip_blank_lines, parse_dates, infer_datetime_format, keep_date_col, date_parser, date_format, dayfirst, cache_dates, iterator, chunksize, compression, thousands, decimal, lineterminator, quotechar, quoting, doublequote, escapechar, comment, encoding, encoding_errors, dialect, on_bad_lines, delim_whitespace, low_memory, memory_map, float_precision, storage_options, dtype_backend)\u001b[0m\n\u001b[1;32m    935\u001b[0m kwds_defaults \u001b[38;5;241m=\u001b[39m _refine_defaults_read(\n\u001b[1;32m    936\u001b[0m     dialect,\n\u001b[1;32m    937\u001b[0m     delimiter,\n\u001b[0;32m   (...)\u001b[0m\n\u001b[1;32m    944\u001b[0m     dtype_backend\u001b[38;5;241m=\u001b[39mdtype_backend,\n\u001b[1;32m    945\u001b[0m )\n\u001b[1;32m    946\u001b[0m kwds\u001b[38;5;241m.\u001b[39mupdate(kwds_defaults)\n\u001b[0;32m--> 948\u001b[0m \u001b[38;5;28;01mreturn\u001b[39;00m \u001b[43m_read\u001b[49m\u001b[43m(\u001b[49m\u001b[43mfilepath_or_buffer\u001b[49m\u001b[43m,\u001b[49m\u001b[43m \u001b[49m\u001b[43mkwds\u001b[49m\u001b[43m)\u001b[49m\n",
      "File \u001b[0;32m~/projects/pucrio/pucrio-env/lib/python3.10/site-packages/pandas/io/parsers/readers.py:611\u001b[0m, in \u001b[0;36m_read\u001b[0;34m(filepath_or_buffer, kwds)\u001b[0m\n\u001b[1;32m    608\u001b[0m _validate_names(kwds\u001b[38;5;241m.\u001b[39mget(\u001b[38;5;124m\"\u001b[39m\u001b[38;5;124mnames\u001b[39m\u001b[38;5;124m\"\u001b[39m, \u001b[38;5;28;01mNone\u001b[39;00m))\n\u001b[1;32m    610\u001b[0m \u001b[38;5;66;03m# Create the parser.\u001b[39;00m\n\u001b[0;32m--> 611\u001b[0m parser \u001b[38;5;241m=\u001b[39m \u001b[43mTextFileReader\u001b[49m\u001b[43m(\u001b[49m\u001b[43mfilepath_or_buffer\u001b[49m\u001b[43m,\u001b[49m\u001b[43m \u001b[49m\u001b[38;5;241;43m*\u001b[39;49m\u001b[38;5;241;43m*\u001b[39;49m\u001b[43mkwds\u001b[49m\u001b[43m)\u001b[49m\n\u001b[1;32m    613\u001b[0m \u001b[38;5;28;01mif\u001b[39;00m chunksize \u001b[38;5;129;01mor\u001b[39;00m iterator:\n\u001b[1;32m    614\u001b[0m     \u001b[38;5;28;01mreturn\u001b[39;00m parser\n",
      "File \u001b[0;32m~/projects/pucrio/pucrio-env/lib/python3.10/site-packages/pandas/io/parsers/readers.py:1448\u001b[0m, in \u001b[0;36mTextFileReader.__init__\u001b[0;34m(self, f, engine, **kwds)\u001b[0m\n\u001b[1;32m   1445\u001b[0m     \u001b[38;5;28mself\u001b[39m\u001b[38;5;241m.\u001b[39moptions[\u001b[38;5;124m\"\u001b[39m\u001b[38;5;124mhas_index_names\u001b[39m\u001b[38;5;124m\"\u001b[39m] \u001b[38;5;241m=\u001b[39m kwds[\u001b[38;5;124m\"\u001b[39m\u001b[38;5;124mhas_index_names\u001b[39m\u001b[38;5;124m\"\u001b[39m]\n\u001b[1;32m   1447\u001b[0m \u001b[38;5;28mself\u001b[39m\u001b[38;5;241m.\u001b[39mhandles: IOHandles \u001b[38;5;241m|\u001b[39m \u001b[38;5;28;01mNone\u001b[39;00m \u001b[38;5;241m=\u001b[39m \u001b[38;5;28;01mNone\u001b[39;00m\n\u001b[0;32m-> 1448\u001b[0m \u001b[38;5;28mself\u001b[39m\u001b[38;5;241m.\u001b[39m_engine \u001b[38;5;241m=\u001b[39m \u001b[38;5;28;43mself\u001b[39;49m\u001b[38;5;241;43m.\u001b[39;49m\u001b[43m_make_engine\u001b[49m\u001b[43m(\u001b[49m\u001b[43mf\u001b[49m\u001b[43m,\u001b[49m\u001b[43m \u001b[49m\u001b[38;5;28;43mself\u001b[39;49m\u001b[38;5;241;43m.\u001b[39;49m\u001b[43mengine\u001b[49m\u001b[43m)\u001b[49m\n",
      "File \u001b[0;32m~/projects/pucrio/pucrio-env/lib/python3.10/site-packages/pandas/io/parsers/readers.py:1705\u001b[0m, in \u001b[0;36mTextFileReader._make_engine\u001b[0;34m(self, f, engine)\u001b[0m\n\u001b[1;32m   1703\u001b[0m     \u001b[38;5;28;01mif\u001b[39;00m \u001b[38;5;124m\"\u001b[39m\u001b[38;5;124mb\u001b[39m\u001b[38;5;124m\"\u001b[39m \u001b[38;5;129;01mnot\u001b[39;00m \u001b[38;5;129;01min\u001b[39;00m mode:\n\u001b[1;32m   1704\u001b[0m         mode \u001b[38;5;241m+\u001b[39m\u001b[38;5;241m=\u001b[39m \u001b[38;5;124m\"\u001b[39m\u001b[38;5;124mb\u001b[39m\u001b[38;5;124m\"\u001b[39m\n\u001b[0;32m-> 1705\u001b[0m \u001b[38;5;28mself\u001b[39m\u001b[38;5;241m.\u001b[39mhandles \u001b[38;5;241m=\u001b[39m \u001b[43mget_handle\u001b[49m\u001b[43m(\u001b[49m\n\u001b[1;32m   1706\u001b[0m \u001b[43m    \u001b[49m\u001b[43mf\u001b[49m\u001b[43m,\u001b[49m\n\u001b[1;32m   1707\u001b[0m \u001b[43m    \u001b[49m\u001b[43mmode\u001b[49m\u001b[43m,\u001b[49m\n\u001b[1;32m   1708\u001b[0m \u001b[43m    \u001b[49m\u001b[43mencoding\u001b[49m\u001b[38;5;241;43m=\u001b[39;49m\u001b[38;5;28;43mself\u001b[39;49m\u001b[38;5;241;43m.\u001b[39;49m\u001b[43moptions\u001b[49m\u001b[38;5;241;43m.\u001b[39;49m\u001b[43mget\u001b[49m\u001b[43m(\u001b[49m\u001b[38;5;124;43m\"\u001b[39;49m\u001b[38;5;124;43mencoding\u001b[39;49m\u001b[38;5;124;43m\"\u001b[39;49m\u001b[43m,\u001b[49m\u001b[43m \u001b[49m\u001b[38;5;28;43;01mNone\u001b[39;49;00m\u001b[43m)\u001b[49m\u001b[43m,\u001b[49m\n\u001b[1;32m   1709\u001b[0m \u001b[43m    \u001b[49m\u001b[43mcompression\u001b[49m\u001b[38;5;241;43m=\u001b[39;49m\u001b[38;5;28;43mself\u001b[39;49m\u001b[38;5;241;43m.\u001b[39;49m\u001b[43moptions\u001b[49m\u001b[38;5;241;43m.\u001b[39;49m\u001b[43mget\u001b[49m\u001b[43m(\u001b[49m\u001b[38;5;124;43m\"\u001b[39;49m\u001b[38;5;124;43mcompression\u001b[39;49m\u001b[38;5;124;43m\"\u001b[39;49m\u001b[43m,\u001b[49m\u001b[43m \u001b[49m\u001b[38;5;28;43;01mNone\u001b[39;49;00m\u001b[43m)\u001b[49m\u001b[43m,\u001b[49m\n\u001b[1;32m   1710\u001b[0m \u001b[43m    \u001b[49m\u001b[43mmemory_map\u001b[49m\u001b[38;5;241;43m=\u001b[39;49m\u001b[38;5;28;43mself\u001b[39;49m\u001b[38;5;241;43m.\u001b[39;49m\u001b[43moptions\u001b[49m\u001b[38;5;241;43m.\u001b[39;49m\u001b[43mget\u001b[49m\u001b[43m(\u001b[49m\u001b[38;5;124;43m\"\u001b[39;49m\u001b[38;5;124;43mmemory_map\u001b[39;49m\u001b[38;5;124;43m\"\u001b[39;49m\u001b[43m,\u001b[49m\u001b[43m \u001b[49m\u001b[38;5;28;43;01mFalse\u001b[39;49;00m\u001b[43m)\u001b[49m\u001b[43m,\u001b[49m\n\u001b[1;32m   1711\u001b[0m \u001b[43m    \u001b[49m\u001b[43mis_text\u001b[49m\u001b[38;5;241;43m=\u001b[39;49m\u001b[43mis_text\u001b[49m\u001b[43m,\u001b[49m\n\u001b[1;32m   1712\u001b[0m \u001b[43m    \u001b[49m\u001b[43merrors\u001b[49m\u001b[38;5;241;43m=\u001b[39;49m\u001b[38;5;28;43mself\u001b[39;49m\u001b[38;5;241;43m.\u001b[39;49m\u001b[43moptions\u001b[49m\u001b[38;5;241;43m.\u001b[39;49m\u001b[43mget\u001b[49m\u001b[43m(\u001b[49m\u001b[38;5;124;43m\"\u001b[39;49m\u001b[38;5;124;43mencoding_errors\u001b[39;49m\u001b[38;5;124;43m\"\u001b[39;49m\u001b[43m,\u001b[49m\u001b[43m \u001b[49m\u001b[38;5;124;43m\"\u001b[39;49m\u001b[38;5;124;43mstrict\u001b[39;49m\u001b[38;5;124;43m\"\u001b[39;49m\u001b[43m)\u001b[49m\u001b[43m,\u001b[49m\n\u001b[1;32m   1713\u001b[0m \u001b[43m    \u001b[49m\u001b[43mstorage_options\u001b[49m\u001b[38;5;241;43m=\u001b[39;49m\u001b[38;5;28;43mself\u001b[39;49m\u001b[38;5;241;43m.\u001b[39;49m\u001b[43moptions\u001b[49m\u001b[38;5;241;43m.\u001b[39;49m\u001b[43mget\u001b[49m\u001b[43m(\u001b[49m\u001b[38;5;124;43m\"\u001b[39;49m\u001b[38;5;124;43mstorage_options\u001b[39;49m\u001b[38;5;124;43m\"\u001b[39;49m\u001b[43m,\u001b[49m\u001b[43m \u001b[49m\u001b[38;5;28;43;01mNone\u001b[39;49;00m\u001b[43m)\u001b[49m\u001b[43m,\u001b[49m\n\u001b[1;32m   1714\u001b[0m \u001b[43m\u001b[49m\u001b[43m)\u001b[49m\n\u001b[1;32m   1715\u001b[0m \u001b[38;5;28;01massert\u001b[39;00m \u001b[38;5;28mself\u001b[39m\u001b[38;5;241m.\u001b[39mhandles \u001b[38;5;129;01mis\u001b[39;00m \u001b[38;5;129;01mnot\u001b[39;00m \u001b[38;5;28;01mNone\u001b[39;00m\n\u001b[1;32m   1716\u001b[0m f \u001b[38;5;241m=\u001b[39m \u001b[38;5;28mself\u001b[39m\u001b[38;5;241m.\u001b[39mhandles\u001b[38;5;241m.\u001b[39mhandle\n",
      "File \u001b[0;32m~/projects/pucrio/pucrio-env/lib/python3.10/site-packages/pandas/io/common.py:718\u001b[0m, in \u001b[0;36mget_handle\u001b[0;34m(path_or_buf, mode, encoding, compression, memory_map, is_text, errors, storage_options)\u001b[0m\n\u001b[1;32m    715\u001b[0m     codecs\u001b[38;5;241m.\u001b[39mlookup_error(errors)\n\u001b[1;32m    717\u001b[0m \u001b[38;5;66;03m# open URLs\u001b[39;00m\n\u001b[0;32m--> 718\u001b[0m ioargs \u001b[38;5;241m=\u001b[39m \u001b[43m_get_filepath_or_buffer\u001b[49m\u001b[43m(\u001b[49m\n\u001b[1;32m    719\u001b[0m \u001b[43m    \u001b[49m\u001b[43mpath_or_buf\u001b[49m\u001b[43m,\u001b[49m\n\u001b[1;32m    720\u001b[0m \u001b[43m    \u001b[49m\u001b[43mencoding\u001b[49m\u001b[38;5;241;43m=\u001b[39;49m\u001b[43mencoding\u001b[49m\u001b[43m,\u001b[49m\n\u001b[1;32m    721\u001b[0m \u001b[43m    \u001b[49m\u001b[43mcompression\u001b[49m\u001b[38;5;241;43m=\u001b[39;49m\u001b[43mcompression\u001b[49m\u001b[43m,\u001b[49m\n\u001b[1;32m    722\u001b[0m \u001b[43m    \u001b[49m\u001b[43mmode\u001b[49m\u001b[38;5;241;43m=\u001b[39;49m\u001b[43mmode\u001b[49m\u001b[43m,\u001b[49m\n\u001b[1;32m    723\u001b[0m \u001b[43m    \u001b[49m\u001b[43mstorage_options\u001b[49m\u001b[38;5;241;43m=\u001b[39;49m\u001b[43mstorage_options\u001b[49m\u001b[43m,\u001b[49m\n\u001b[1;32m    724\u001b[0m \u001b[43m\u001b[49m\u001b[43m)\u001b[49m\n\u001b[1;32m    726\u001b[0m handle \u001b[38;5;241m=\u001b[39m ioargs\u001b[38;5;241m.\u001b[39mfilepath_or_buffer\n\u001b[1;32m    727\u001b[0m handles: \u001b[38;5;28mlist\u001b[39m[BaseBuffer]\n",
      "File \u001b[0;32m~/projects/pucrio/pucrio-env/lib/python3.10/site-packages/pandas/io/common.py:372\u001b[0m, in \u001b[0;36m_get_filepath_or_buffer\u001b[0;34m(filepath_or_buffer, encoding, compression, mode, storage_options)\u001b[0m\n\u001b[1;32m    370\u001b[0m \u001b[38;5;66;03m# assuming storage_options is to be interpreted as headers\u001b[39;00m\n\u001b[1;32m    371\u001b[0m req_info \u001b[38;5;241m=\u001b[39m urllib\u001b[38;5;241m.\u001b[39mrequest\u001b[38;5;241m.\u001b[39mRequest(filepath_or_buffer, headers\u001b[38;5;241m=\u001b[39mstorage_options)\n\u001b[0;32m--> 372\u001b[0m \u001b[38;5;28;01mwith\u001b[39;00m \u001b[43murlopen\u001b[49m\u001b[43m(\u001b[49m\u001b[43mreq_info\u001b[49m\u001b[43m)\u001b[49m \u001b[38;5;28;01mas\u001b[39;00m req:\n\u001b[1;32m    373\u001b[0m     content_encoding \u001b[38;5;241m=\u001b[39m req\u001b[38;5;241m.\u001b[39mheaders\u001b[38;5;241m.\u001b[39mget(\u001b[38;5;124m\"\u001b[39m\u001b[38;5;124mContent-Encoding\u001b[39m\u001b[38;5;124m\"\u001b[39m, \u001b[38;5;28;01mNone\u001b[39;00m)\n\u001b[1;32m    374\u001b[0m     \u001b[38;5;28;01mif\u001b[39;00m content_encoding \u001b[38;5;241m==\u001b[39m \u001b[38;5;124m\"\u001b[39m\u001b[38;5;124mgzip\u001b[39m\u001b[38;5;124m\"\u001b[39m:\n\u001b[1;32m    375\u001b[0m         \u001b[38;5;66;03m# Override compression based on Content-Encoding header\u001b[39;00m\n",
      "File \u001b[0;32m~/projects/pucrio/pucrio-env/lib/python3.10/site-packages/pandas/io/common.py:274\u001b[0m, in \u001b[0;36murlopen\u001b[0;34m(*args, **kwargs)\u001b[0m\n\u001b[1;32m    268\u001b[0m \u001b[38;5;250m\u001b[39m\u001b[38;5;124;03m\"\"\"\u001b[39;00m\n\u001b[1;32m    269\u001b[0m \u001b[38;5;124;03mLazy-import wrapper for stdlib urlopen, as that imports a big chunk of\u001b[39;00m\n\u001b[1;32m    270\u001b[0m \u001b[38;5;124;03mthe stdlib.\u001b[39;00m\n\u001b[1;32m    271\u001b[0m \u001b[38;5;124;03m\"\"\"\u001b[39;00m\n\u001b[1;32m    272\u001b[0m \u001b[38;5;28;01mimport\u001b[39;00m \u001b[38;5;21;01murllib\u001b[39;00m\u001b[38;5;21;01m.\u001b[39;00m\u001b[38;5;21;01mrequest\u001b[39;00m\n\u001b[0;32m--> 274\u001b[0m \u001b[38;5;28;01mreturn\u001b[39;00m \u001b[43murllib\u001b[49m\u001b[38;5;241;43m.\u001b[39;49m\u001b[43mrequest\u001b[49m\u001b[38;5;241;43m.\u001b[39;49m\u001b[43murlopen\u001b[49m\u001b[43m(\u001b[49m\u001b[38;5;241;43m*\u001b[39;49m\u001b[43margs\u001b[49m\u001b[43m,\u001b[49m\u001b[43m \u001b[49m\u001b[38;5;241;43m*\u001b[39;49m\u001b[38;5;241;43m*\u001b[39;49m\u001b[43mkwargs\u001b[49m\u001b[43m)\u001b[49m\n",
      "File \u001b[0;32m/usr/lib/python3.10/urllib/request.py:216\u001b[0m, in \u001b[0;36murlopen\u001b[0;34m(url, data, timeout, cafile, capath, cadefault, context)\u001b[0m\n\u001b[1;32m    214\u001b[0m \u001b[38;5;28;01melse\u001b[39;00m:\n\u001b[1;32m    215\u001b[0m     opener \u001b[38;5;241m=\u001b[39m _opener\n\u001b[0;32m--> 216\u001b[0m \u001b[38;5;28;01mreturn\u001b[39;00m \u001b[43mopener\u001b[49m\u001b[38;5;241;43m.\u001b[39;49m\u001b[43mopen\u001b[49m\u001b[43m(\u001b[49m\u001b[43murl\u001b[49m\u001b[43m,\u001b[49m\u001b[43m \u001b[49m\u001b[43mdata\u001b[49m\u001b[43m,\u001b[49m\u001b[43m \u001b[49m\u001b[43mtimeout\u001b[49m\u001b[43m)\u001b[49m\n",
      "File \u001b[0;32m/usr/lib/python3.10/urllib/request.py:519\u001b[0m, in \u001b[0;36mOpenerDirector.open\u001b[0;34m(self, fullurl, data, timeout)\u001b[0m\n\u001b[1;32m    516\u001b[0m     req \u001b[38;5;241m=\u001b[39m meth(req)\n\u001b[1;32m    518\u001b[0m sys\u001b[38;5;241m.\u001b[39maudit(\u001b[38;5;124m'\u001b[39m\u001b[38;5;124murllib.Request\u001b[39m\u001b[38;5;124m'\u001b[39m, req\u001b[38;5;241m.\u001b[39mfull_url, req\u001b[38;5;241m.\u001b[39mdata, req\u001b[38;5;241m.\u001b[39mheaders, req\u001b[38;5;241m.\u001b[39mget_method())\n\u001b[0;32m--> 519\u001b[0m response \u001b[38;5;241m=\u001b[39m \u001b[38;5;28;43mself\u001b[39;49m\u001b[38;5;241;43m.\u001b[39;49m\u001b[43m_open\u001b[49m\u001b[43m(\u001b[49m\u001b[43mreq\u001b[49m\u001b[43m,\u001b[49m\u001b[43m \u001b[49m\u001b[43mdata\u001b[49m\u001b[43m)\u001b[49m\n\u001b[1;32m    521\u001b[0m \u001b[38;5;66;03m# post-process response\u001b[39;00m\n\u001b[1;32m    522\u001b[0m meth_name \u001b[38;5;241m=\u001b[39m protocol\u001b[38;5;241m+\u001b[39m\u001b[38;5;124m\"\u001b[39m\u001b[38;5;124m_response\u001b[39m\u001b[38;5;124m\"\u001b[39m\n",
      "File \u001b[0;32m/usr/lib/python3.10/urllib/request.py:536\u001b[0m, in \u001b[0;36mOpenerDirector._open\u001b[0;34m(self, req, data)\u001b[0m\n\u001b[1;32m    533\u001b[0m     \u001b[38;5;28;01mreturn\u001b[39;00m result\n\u001b[1;32m    535\u001b[0m protocol \u001b[38;5;241m=\u001b[39m req\u001b[38;5;241m.\u001b[39mtype\n\u001b[0;32m--> 536\u001b[0m result \u001b[38;5;241m=\u001b[39m \u001b[38;5;28;43mself\u001b[39;49m\u001b[38;5;241;43m.\u001b[39;49m\u001b[43m_call_chain\u001b[49m\u001b[43m(\u001b[49m\u001b[38;5;28;43mself\u001b[39;49m\u001b[38;5;241;43m.\u001b[39;49m\u001b[43mhandle_open\u001b[49m\u001b[43m,\u001b[49m\u001b[43m \u001b[49m\u001b[43mprotocol\u001b[49m\u001b[43m,\u001b[49m\u001b[43m \u001b[49m\u001b[43mprotocol\u001b[49m\u001b[43m \u001b[49m\u001b[38;5;241;43m+\u001b[39;49m\n\u001b[1;32m    537\u001b[0m \u001b[43m                          \u001b[49m\u001b[38;5;124;43m'\u001b[39;49m\u001b[38;5;124;43m_open\u001b[39;49m\u001b[38;5;124;43m'\u001b[39;49m\u001b[43m,\u001b[49m\u001b[43m \u001b[49m\u001b[43mreq\u001b[49m\u001b[43m)\u001b[49m\n\u001b[1;32m    538\u001b[0m \u001b[38;5;28;01mif\u001b[39;00m result:\n\u001b[1;32m    539\u001b[0m     \u001b[38;5;28;01mreturn\u001b[39;00m result\n",
      "File \u001b[0;32m/usr/lib/python3.10/urllib/request.py:496\u001b[0m, in \u001b[0;36mOpenerDirector._call_chain\u001b[0;34m(self, chain, kind, meth_name, *args)\u001b[0m\n\u001b[1;32m    494\u001b[0m \u001b[38;5;28;01mfor\u001b[39;00m handler \u001b[38;5;129;01min\u001b[39;00m handlers:\n\u001b[1;32m    495\u001b[0m     func \u001b[38;5;241m=\u001b[39m \u001b[38;5;28mgetattr\u001b[39m(handler, meth_name)\n\u001b[0;32m--> 496\u001b[0m     result \u001b[38;5;241m=\u001b[39m \u001b[43mfunc\u001b[49m\u001b[43m(\u001b[49m\u001b[38;5;241;43m*\u001b[39;49m\u001b[43margs\u001b[49m\u001b[43m)\u001b[49m\n\u001b[1;32m    497\u001b[0m     \u001b[38;5;28;01mif\u001b[39;00m result \u001b[38;5;129;01mis\u001b[39;00m \u001b[38;5;129;01mnot\u001b[39;00m \u001b[38;5;28;01mNone\u001b[39;00m:\n\u001b[1;32m    498\u001b[0m         \u001b[38;5;28;01mreturn\u001b[39;00m result\n",
      "File \u001b[0;32m/usr/lib/python3.10/urllib/request.py:1391\u001b[0m, in \u001b[0;36mHTTPSHandler.https_open\u001b[0;34m(self, req)\u001b[0m\n\u001b[1;32m   1390\u001b[0m \u001b[38;5;28;01mdef\u001b[39;00m \u001b[38;5;21mhttps_open\u001b[39m(\u001b[38;5;28mself\u001b[39m, req):\n\u001b[0;32m-> 1391\u001b[0m     \u001b[38;5;28;01mreturn\u001b[39;00m \u001b[38;5;28;43mself\u001b[39;49m\u001b[38;5;241;43m.\u001b[39;49m\u001b[43mdo_open\u001b[49m\u001b[43m(\u001b[49m\u001b[43mhttp\u001b[49m\u001b[38;5;241;43m.\u001b[39;49m\u001b[43mclient\u001b[49m\u001b[38;5;241;43m.\u001b[39;49m\u001b[43mHTTPSConnection\u001b[49m\u001b[43m,\u001b[49m\u001b[43m \u001b[49m\u001b[43mreq\u001b[49m\u001b[43m,\u001b[49m\n\u001b[1;32m   1392\u001b[0m \u001b[43m        \u001b[49m\u001b[43mcontext\u001b[49m\u001b[38;5;241;43m=\u001b[39;49m\u001b[38;5;28;43mself\u001b[39;49m\u001b[38;5;241;43m.\u001b[39;49m\u001b[43m_context\u001b[49m\u001b[43m,\u001b[49m\u001b[43m \u001b[49m\u001b[43mcheck_hostname\u001b[49m\u001b[38;5;241;43m=\u001b[39;49m\u001b[38;5;28;43mself\u001b[39;49m\u001b[38;5;241;43m.\u001b[39;49m\u001b[43m_check_hostname\u001b[49m\u001b[43m)\u001b[49m\n",
      "File \u001b[0;32m/usr/lib/python3.10/urllib/request.py:1352\u001b[0m, in \u001b[0;36mAbstractHTTPHandler.do_open\u001b[0;34m(self, http_class, req, **http_conn_args)\u001b[0m\n\u001b[1;32m   1350\u001b[0m     \u001b[38;5;28;01mexcept\u001b[39;00m \u001b[38;5;167;01mOSError\u001b[39;00m \u001b[38;5;28;01mas\u001b[39;00m err: \u001b[38;5;66;03m# timeout error\u001b[39;00m\n\u001b[1;32m   1351\u001b[0m         \u001b[38;5;28;01mraise\u001b[39;00m URLError(err)\n\u001b[0;32m-> 1352\u001b[0m     r \u001b[38;5;241m=\u001b[39m \u001b[43mh\u001b[49m\u001b[38;5;241;43m.\u001b[39;49m\u001b[43mgetresponse\u001b[49m\u001b[43m(\u001b[49m\u001b[43m)\u001b[49m\n\u001b[1;32m   1353\u001b[0m \u001b[38;5;28;01mexcept\u001b[39;00m:\n\u001b[1;32m   1354\u001b[0m     h\u001b[38;5;241m.\u001b[39mclose()\n",
      "File \u001b[0;32m/usr/lib/python3.10/http/client.py:1375\u001b[0m, in \u001b[0;36mHTTPConnection.getresponse\u001b[0;34m(self)\u001b[0m\n\u001b[1;32m   1373\u001b[0m \u001b[38;5;28;01mtry\u001b[39;00m:\n\u001b[1;32m   1374\u001b[0m     \u001b[38;5;28;01mtry\u001b[39;00m:\n\u001b[0;32m-> 1375\u001b[0m         \u001b[43mresponse\u001b[49m\u001b[38;5;241;43m.\u001b[39;49m\u001b[43mbegin\u001b[49m\u001b[43m(\u001b[49m\u001b[43m)\u001b[49m\n\u001b[1;32m   1376\u001b[0m     \u001b[38;5;28;01mexcept\u001b[39;00m \u001b[38;5;167;01mConnectionError\u001b[39;00m:\n\u001b[1;32m   1377\u001b[0m         \u001b[38;5;28mself\u001b[39m\u001b[38;5;241m.\u001b[39mclose()\n",
      "File \u001b[0;32m/usr/lib/python3.10/http/client.py:318\u001b[0m, in \u001b[0;36mHTTPResponse.begin\u001b[0;34m(self)\u001b[0m\n\u001b[1;32m    316\u001b[0m \u001b[38;5;66;03m# read until we get a non-100 response\u001b[39;00m\n\u001b[1;32m    317\u001b[0m \u001b[38;5;28;01mwhile\u001b[39;00m \u001b[38;5;28;01mTrue\u001b[39;00m:\n\u001b[0;32m--> 318\u001b[0m     version, status, reason \u001b[38;5;241m=\u001b[39m \u001b[38;5;28;43mself\u001b[39;49m\u001b[38;5;241;43m.\u001b[39;49m\u001b[43m_read_status\u001b[49m\u001b[43m(\u001b[49m\u001b[43m)\u001b[49m\n\u001b[1;32m    319\u001b[0m     \u001b[38;5;28;01mif\u001b[39;00m status \u001b[38;5;241m!=\u001b[39m CONTINUE:\n\u001b[1;32m    320\u001b[0m         \u001b[38;5;28;01mbreak\u001b[39;00m\n",
      "File \u001b[0;32m/usr/lib/python3.10/http/client.py:279\u001b[0m, in \u001b[0;36mHTTPResponse._read_status\u001b[0;34m(self)\u001b[0m\n\u001b[1;32m    278\u001b[0m \u001b[38;5;28;01mdef\u001b[39;00m \u001b[38;5;21m_read_status\u001b[39m(\u001b[38;5;28mself\u001b[39m):\n\u001b[0;32m--> 279\u001b[0m     line \u001b[38;5;241m=\u001b[39m \u001b[38;5;28mstr\u001b[39m(\u001b[38;5;28;43mself\u001b[39;49m\u001b[38;5;241;43m.\u001b[39;49m\u001b[43mfp\u001b[49m\u001b[38;5;241;43m.\u001b[39;49m\u001b[43mreadline\u001b[49m\u001b[43m(\u001b[49m\u001b[43m_MAXLINE\u001b[49m\u001b[43m \u001b[49m\u001b[38;5;241;43m+\u001b[39;49m\u001b[43m \u001b[49m\u001b[38;5;241;43m1\u001b[39;49m\u001b[43m)\u001b[49m, \u001b[38;5;124m\"\u001b[39m\u001b[38;5;124miso-8859-1\u001b[39m\u001b[38;5;124m\"\u001b[39m)\n\u001b[1;32m    280\u001b[0m     \u001b[38;5;28;01mif\u001b[39;00m \u001b[38;5;28mlen\u001b[39m(line) \u001b[38;5;241m>\u001b[39m _MAXLINE:\n\u001b[1;32m    281\u001b[0m         \u001b[38;5;28;01mraise\u001b[39;00m LineTooLong(\u001b[38;5;124m\"\u001b[39m\u001b[38;5;124mstatus line\u001b[39m\u001b[38;5;124m\"\u001b[39m)\n",
      "File \u001b[0;32m/usr/lib/python3.10/socket.py:705\u001b[0m, in \u001b[0;36mSocketIO.readinto\u001b[0;34m(self, b)\u001b[0m\n\u001b[1;32m    703\u001b[0m \u001b[38;5;28;01mwhile\u001b[39;00m \u001b[38;5;28;01mTrue\u001b[39;00m:\n\u001b[1;32m    704\u001b[0m     \u001b[38;5;28;01mtry\u001b[39;00m:\n\u001b[0;32m--> 705\u001b[0m         \u001b[38;5;28;01mreturn\u001b[39;00m \u001b[38;5;28;43mself\u001b[39;49m\u001b[38;5;241;43m.\u001b[39;49m\u001b[43m_sock\u001b[49m\u001b[38;5;241;43m.\u001b[39;49m\u001b[43mrecv_into\u001b[49m\u001b[43m(\u001b[49m\u001b[43mb\u001b[49m\u001b[43m)\u001b[49m\n\u001b[1;32m    706\u001b[0m     \u001b[38;5;28;01mexcept\u001b[39;00m timeout:\n\u001b[1;32m    707\u001b[0m         \u001b[38;5;28mself\u001b[39m\u001b[38;5;241m.\u001b[39m_timeout_occurred \u001b[38;5;241m=\u001b[39m \u001b[38;5;28;01mTrue\u001b[39;00m\n",
      "File \u001b[0;32m/usr/lib/python3.10/ssl.py:1303\u001b[0m, in \u001b[0;36mSSLSocket.recv_into\u001b[0;34m(self, buffer, nbytes, flags)\u001b[0m\n\u001b[1;32m   1299\u001b[0m     \u001b[38;5;28;01mif\u001b[39;00m flags \u001b[38;5;241m!=\u001b[39m \u001b[38;5;241m0\u001b[39m:\n\u001b[1;32m   1300\u001b[0m         \u001b[38;5;28;01mraise\u001b[39;00m \u001b[38;5;167;01mValueError\u001b[39;00m(\n\u001b[1;32m   1301\u001b[0m           \u001b[38;5;124m\"\u001b[39m\u001b[38;5;124mnon-zero flags not allowed in calls to recv_into() on \u001b[39m\u001b[38;5;132;01m%s\u001b[39;00m\u001b[38;5;124m\"\u001b[39m \u001b[38;5;241m%\u001b[39m\n\u001b[1;32m   1302\u001b[0m           \u001b[38;5;28mself\u001b[39m\u001b[38;5;241m.\u001b[39m\u001b[38;5;18m__class__\u001b[39m)\n\u001b[0;32m-> 1303\u001b[0m     \u001b[38;5;28;01mreturn\u001b[39;00m \u001b[38;5;28;43mself\u001b[39;49m\u001b[38;5;241;43m.\u001b[39;49m\u001b[43mread\u001b[49m\u001b[43m(\u001b[49m\u001b[43mnbytes\u001b[49m\u001b[43m,\u001b[49m\u001b[43m \u001b[49m\u001b[43mbuffer\u001b[49m\u001b[43m)\u001b[49m\n\u001b[1;32m   1304\u001b[0m \u001b[38;5;28;01melse\u001b[39;00m:\n\u001b[1;32m   1305\u001b[0m     \u001b[38;5;28;01mreturn\u001b[39;00m \u001b[38;5;28msuper\u001b[39m()\u001b[38;5;241m.\u001b[39mrecv_into(buffer, nbytes, flags)\n",
      "File \u001b[0;32m/usr/lib/python3.10/ssl.py:1159\u001b[0m, in \u001b[0;36mSSLSocket.read\u001b[0;34m(self, len, buffer)\u001b[0m\n\u001b[1;32m   1157\u001b[0m \u001b[38;5;28;01mtry\u001b[39;00m:\n\u001b[1;32m   1158\u001b[0m     \u001b[38;5;28;01mif\u001b[39;00m buffer \u001b[38;5;129;01mis\u001b[39;00m \u001b[38;5;129;01mnot\u001b[39;00m \u001b[38;5;28;01mNone\u001b[39;00m:\n\u001b[0;32m-> 1159\u001b[0m         \u001b[38;5;28;01mreturn\u001b[39;00m \u001b[38;5;28;43mself\u001b[39;49m\u001b[38;5;241;43m.\u001b[39;49m\u001b[43m_sslobj\u001b[49m\u001b[38;5;241;43m.\u001b[39;49m\u001b[43mread\u001b[49m\u001b[43m(\u001b[49m\u001b[38;5;28;43mlen\u001b[39;49m\u001b[43m,\u001b[49m\u001b[43m \u001b[49m\u001b[43mbuffer\u001b[49m\u001b[43m)\u001b[49m\n\u001b[1;32m   1160\u001b[0m     \u001b[38;5;28;01melse\u001b[39;00m:\n\u001b[1;32m   1161\u001b[0m         \u001b[38;5;28;01mreturn\u001b[39;00m \u001b[38;5;28mself\u001b[39m\u001b[38;5;241m.\u001b[39m_sslobj\u001b[38;5;241m.\u001b[39mread(\u001b[38;5;28mlen\u001b[39m)\n",
      "\u001b[0;31mKeyboardInterrupt\u001b[0m: "
     ]
    }
   ],
   "source": [
    "url = \"https://media.githubusercontent.com/media/anttoniol/pucrio_ds_sprint2/main/casos_obitos_raca_cor.csv\"\n",
    "dataframe = pd.read_csv(url, sep = \";\")\n",
    "len(dataframe.index)"
   ]
  },
  {
   "cell_type": "code",
   "execution_count": null,
   "metadata": {
    "id": "rWRMN6NwVaHO"
   },
   "outputs": [],
   "source": [
    "original_dataframe = dataframe.copy()"
   ]
  },
  {
   "cell_type": "markdown",
   "metadata": {
    "id": "vj00_elWWemx"
   },
   "source": [
    "### **Sobre a necessidade de validação cruzada**\n",
    "Neste MVP, a validação cruzada será utilizada, para uma melhor avaliação, embora o *dataset* tenha uma quantidade significativa de linhas (ou, seja, não é um conjunto muito limitado).\n"
   ]
  },
  {
   "cell_type": "markdown",
   "metadata": {
    "id": "jlFPdtx4RPqz"
   },
   "source": [
    "### **Transformação de dados**\n",
    "\n",
    "Nesta parte, serão realizadas algumas operações para melhorar a qualidade dos dados."
   ]
  },
  {
   "cell_type": "markdown",
   "metadata": {
    "id": "QKjF8kMdH_2j"
   },
   "source": [
    "#### **Substituição de valores**\n",
    "\n",
    "Para cada coluna, os valores desconhecidos serão substituídos e, se a coluna não for numérica, será realizado o *dummy encoder*.\n",
    "\n",
    "Além disso, algumas colunas foram descartadas, por não serem relevantes na resposta ao problema tratado neste trabalho. Assim, serão consideradas apenas as colunas \"raca_cor\", \"idade\", \"cs_sexo\", \"diagnostico_covid19\" e \"obito\":"
   ]
  },
  {
   "cell_type": "code",
   "execution_count": null,
   "metadata": {
    "id": "E-oubjJdTtMJ"
   },
   "outputs": [],
   "source": [
    "dataframe = dataframe.loc[:, ~dataframe.columns.isin([\"codigo_ibge\", \"nome_munic\", \"nome_drs\"])]"
   ]
  },
  {
   "cell_type": "markdown",
   "metadata": {
    "id": "BPhfTWAeTtMJ"
   },
   "source": [
    "Como o *dataframe* é muito grande, decidiu-se utilizar 10000 linhas aleatórias do *dataframe*, para que as execuções a seguir pudessem ser feitas completamente, sem travar a máquina utilizada para o desenvolvimento deste MVP."
   ]
  },
  {
   "cell_type": "code",
   "execution_count": null,
   "metadata": {
    "id": "LbTs28EATtMK"
   },
   "outputs": [],
   "source": [
    "seed = 7\n",
    "random.seed(seed)\n",
    "population = list(range(len(dataframe.index)))\n",
    "sample = random.sample(population, k = 10000)\n",
    "\n",
    "dataframe = dataframe.loc[sample, :]"
   ]
  },
  {
   "cell_type": "code",
   "execution_count": null,
   "metadata": {
    "id": "G95tie8hH_3y"
   },
   "outputs": [],
   "source": [
    "def replace_na_values(dataframe, column_name, new_value):\n",
    "  new_column = dataframe[column_name].fillna(new_value)\n",
    "  dataframe[column_name] = new_column\n",
    "  return dataframe\n",
    "\n",
    "def apply_dummy_encoding(data, columns = None, prefix_sep = '_'):\n",
    "  return pd.get_dummies(data = data, columns = columns, prefix_sep = prefix_sep)\n",
    "\n",
    "def prepare_to_dummy_encoding(dataframe, columns):\n",
    "  encoded_dataframe = pd.DataFrame(columns = columns)\n",
    "  encoded_dataframe = pd.concat([encoded_dataframe, dataframe[columns]])\n",
    "  return apply_dummy_encoding(encoded_dataframe)\n"
   ]
  },
  {
   "cell_type": "markdown",
   "metadata": {
    "id": "kfCXNXX7QXYs"
   },
   "source": [
    "**obito**\n",
    "\n",
    "Os valores faltantes serão substituídos pelo valor -1. Além disso, para facilitar a compreensão, o valor booleano \"False\" será substituído por 0; o valor booleano \"True\", por 1."
   ]
  },
  {
   "cell_type": "code",
   "execution_count": null,
   "metadata": {
    "colab": {
     "base_uri": "https://localhost:8080/",
     "height": 488
    },
    "id": "eI5GyXgsQgm7",
    "outputId": "bba6c50d-ebec-4061-cb5d-0e3151d9fe3d"
   },
   "outputs": [],
   "source": [
    "dataframe = replace_na_values(dataframe, \"obito\", -1)\n",
    "#dataframe[\"obito\"].replace(False, 0, inplace = True)\n",
    "#dataframe[\"obito\"].replace(True, 1, inplace = True)\n",
    "dataframe\n"
   ]
  },
  {
   "cell_type": "markdown",
   "metadata": {
    "id": "RQe5ssSvWc4y"
   },
   "source": [
    "**raca_cor**\n",
    "\n",
    "Os valores faltantes serão substituídos por \"DESCONHECIDA\"."
   ]
  },
  {
   "cell_type": "code",
   "execution_count": null,
   "metadata": {
    "id": "FjOpsb90qj0-"
   },
   "outputs": [],
   "source": [
    "def replace_string_values(dataframe, column_name, replacement_dict):\n",
    "  for key in replacement_dict:\n",
    "    column =  dataframe[column_name].str.replace(key, replacement_dict[key], regex = True)\n",
    "    dataframe[column_name] = column\n",
    "  return dataframe"
   ]
  },
  {
   "cell_type": "code",
   "execution_count": null,
   "metadata": {
    "colab": {
     "base_uri": "https://localhost:8080/",
     "height": 488
    },
    "id": "1bA1VNbPbONX",
    "outputId": "831aa8f8-147e-4db4-e672-0e4ac42402bf"
   },
   "outputs": [],
   "source": [
    "dataframe = replace_na_values(dataframe, \"raca_cor\", \"DESCONHECIDA\")\n",
    "encoded_dataframe_raca_cor = prepare_to_dummy_encoding(dataframe, [\"raca_cor\"])\n",
    "dataframe.drop(\"raca_cor\", axis = 1, inplace = True)\n",
    "dataframe[list(encoded_dataframe_raca_cor.columns.values)] = encoded_dataframe_raca_cor.values.tolist()\n",
    "dataframe"
   ]
  },
  {
   "cell_type": "markdown",
   "metadata": {
    "id": "QVw-vzXlfW2E"
   },
   "source": [
    "**diagnostico_covid19**\n",
    "\n",
    "Os valores faltantes serão substituídos pelo valor -1; os campos com \"CONFIRMADO\", por 1; e o restante, por 0."
   ]
  },
  {
   "cell_type": "code",
   "execution_count": null,
   "metadata": {
    "id": "oGfdpD6QffRg"
   },
   "outputs": [],
   "source": [
    "dataframe = replace_na_values(dataframe, \"diagnostico_covid19\", \"-1\")\n",
    "encoded_dataframe_diagnostico_covid19 = prepare_to_dummy_encoding(dataframe, [\"diagnostico_covid19\"])\n",
    "dataframe.drop(\"diagnostico_covid19\", axis = 1, inplace = True)\n",
    "dataframe[list(encoded_dataframe_diagnostico_covid19.columns.values)] = encoded_dataframe_diagnostico_covid19.values.tolist()"
   ]
  },
  {
   "cell_type": "markdown",
   "metadata": {
    "id": "HceD4p6Zddkq"
   },
   "source": [
    "**idade**\n",
    "\n",
    "Os valores faltantes serão substituídos pela mediana do atributo, para que todos os valores desse atributo sejam numéricos. A mesma coisa será feita para valores menores que -1 ou maiores do que ou iguais a 130."
   ]
  },
  {
   "cell_type": "code",
   "execution_count": null,
   "metadata": {
    "colab": {
     "base_uri": "https://localhost:8080/",
     "height": 488
    },
    "id": "OmCXApK7eiPy",
    "outputId": "2da46cb6-cb3e-43c8-9e25-4e4c91d6aa14"
   },
   "outputs": [],
   "source": [
    "median = dataframe[\"idade\"].median()\n",
    "dataframe = replace_na_values(dataframe, \"idade\", median)\n",
    "first_filter = dataframe[\"idade\"] <= -1\n",
    "second_filter = dataframe[\"idade\"] >= 130\n",
    "dataframe.loc[first_filter | second_filter, \"idade\"] = median\n",
    "dataframe"
   ]
  },
  {
   "cell_type": "markdown",
   "metadata": {
    "id": "BPSY-bUVe1y1"
   },
   "source": [
    "**cs_sexo**\n",
    "\n",
    "Os valores faltantes serão substituídos pelo valor \"DESCONHECIDO\"."
   ]
  },
  {
   "cell_type": "code",
   "execution_count": null,
   "metadata": {
    "colab": {
     "base_uri": "https://localhost:8080/",
     "height": 488
    },
    "id": "iXsA7oWae-ru",
    "outputId": "adc3ad53-5fad-44c6-be1e-ed52a8d61d87",
    "scrolled": true
   },
   "outputs": [],
   "source": [
    "dataframe = replace_na_values(dataframe, \"cs_sexo\", \"DESCONHECIDO\")\n",
    "\n",
    "encoded_dataframe = prepare_to_dummy_encoding(dataframe, [\"cs_sexo\"])\n",
    "dataframe.drop(\"cs_sexo\", axis = 1, inplace = True)\n",
    "dataframe[list(encoded_dataframe.columns.values)] = encoded_dataframe.values.tolist()\n",
    "dataframe"
   ]
  },
  {
   "cell_type": "markdown",
   "metadata": {
    "id": "p5oYQgZ1TtMO"
   },
   "source": [
    "**asma**\n",
    "\n",
    "Os valores faltantes serão substituídos pela mediana do atributo, para que todos os valores desse atributo sejam numéricos."
   ]
  },
  {
   "cell_type": "code",
   "execution_count": null,
   "metadata": {
    "colab": {
     "base_uri": "https://localhost:8080/",
     "height": 488
    },
    "id": "zPpW2iCQTtMP",
    "outputId": "b7ccb4d5-9f78-4b47-bfba-cd260f0be05b"
   },
   "outputs": [],
   "source": [
    "def replace_na_values_with_median(dataframe, column_name):\n",
    "  median = dataframe[column_name].median()\n",
    "  dataframe = replace_na_values(dataframe, column_name, median)\n",
    "  return dataframe\n",
    "\n",
    "replace_na_values_with_median(dataframe, \"asma\")"
   ]
  },
  {
   "cell_type": "markdown",
   "metadata": {
    "id": "wbP-FFJrTtMQ"
   },
   "source": [
    "**cardiopatia**\n",
    "\n",
    "Os valores faltantes serão substituídos pela mediana do atributo, para que todos os valores desse atributo sejam numéricos."
   ]
  },
  {
   "cell_type": "code",
   "execution_count": null,
   "metadata": {
    "colab": {
     "base_uri": "https://localhost:8080/",
     "height": 488
    },
    "id": "mfz6nOMyTtMQ",
    "outputId": "65a52e1c-07e1-40ba-96a0-7b132b469489"
   },
   "outputs": [],
   "source": [
    "replace_na_values_with_median(dataframe, \"cardiopatia\")\n"
   ]
  },
  {
   "cell_type": "markdown",
   "metadata": {
    "id": "I9ivKIEaTtMQ"
   },
   "source": [
    "**diabetes**\n",
    "\n",
    "Os valores faltantes serão substituídos pela mediana do atributo, para que todos os valores desse atributo sejam numéricos."
   ]
  },
  {
   "cell_type": "code",
   "execution_count": null,
   "metadata": {
    "colab": {
     "base_uri": "https://localhost:8080/",
     "height": 488
    },
    "id": "acA90qK-TtMQ",
    "outputId": "72e5e444-98cf-4be1-c724-c0b0d9865e2c"
   },
   "outputs": [],
   "source": [
    "replace_na_values_with_median(dataframe, \"diabetes\")"
   ]
  },
  {
   "cell_type": "markdown",
   "metadata": {
    "id": "Pn49AQ7nTtMQ"
   },
   "source": [
    "**doenca_hematologica**\n",
    "\n",
    "Os valores faltantes serão substituídos pela mediana do atributo, para que todos os valores desse atributo sejam numéricos."
   ]
  },
  {
   "cell_type": "code",
   "execution_count": null,
   "metadata": {
    "colab": {
     "base_uri": "https://localhost:8080/",
     "height": 488
    },
    "id": "N7iYEjXNTtMQ",
    "outputId": "4167b0ff-b7b5-4c53-d6ad-b3f99e382315"
   },
   "outputs": [],
   "source": [
    "replace_na_values_with_median(dataframe, \"doenca_hematologica\")"
   ]
  },
  {
   "cell_type": "markdown",
   "metadata": {
    "id": "SLgTGH-kTtMQ"
   },
   "source": [
    "**doenca_hepatica**\n",
    "\n",
    "Os valores faltantes serão substituídos pela mediana do atributo, para que todos os valores desse atributo sejam numéricos."
   ]
  },
  {
   "cell_type": "code",
   "execution_count": null,
   "metadata": {
    "colab": {
     "base_uri": "https://localhost:8080/",
     "height": 488
    },
    "id": "1BbgEo4FTtMQ",
    "outputId": "e4590383-83b6-430a-ddce-691ec70389d2"
   },
   "outputs": [],
   "source": [
    "replace_na_values_with_median(dataframe, \"doenca_hepatica\")"
   ]
  },
  {
   "cell_type": "markdown",
   "metadata": {
    "id": "aDmP-4B8TtMR"
   },
   "source": [
    "**doenca_neurológica**\n",
    "\n",
    "Os valores faltantes serão substituídos pela mediana do atributo, para que todos os valores desse atributo sejam numéricos."
   ]
  },
  {
   "cell_type": "code",
   "execution_count": null,
   "metadata": {
    "colab": {
     "base_uri": "https://localhost:8080/",
     "height": 488
    },
    "id": "b0zjHzMWTtMR",
    "outputId": "8f0993fc-2149-4123-927d-1408909e8300"
   },
   "outputs": [],
   "source": [
    "replace_na_values_with_median(dataframe, \"doenca_neurologica\")"
   ]
  },
  {
   "cell_type": "markdown",
   "metadata": {
    "id": "ask1siKBTtMR"
   },
   "source": [
    "**doenca_renal**\n",
    "\n",
    "Os valores faltantes serão substituídos pela mediana do atributo, para que todos os valores desse atributo sejam numéricos."
   ]
  },
  {
   "cell_type": "code",
   "execution_count": null,
   "metadata": {
    "colab": {
     "base_uri": "https://localhost:8080/",
     "height": 488
    },
    "id": "upBBmgWoTtMS",
    "outputId": "9bbae345-ffb1-40b4-8ec6-d69561a18e37"
   },
   "outputs": [],
   "source": [
    "replace_na_values_with_median(dataframe, \"doenca_renal\")"
   ]
  },
  {
   "cell_type": "markdown",
   "metadata": {
    "id": "TOqayFkkTtMS"
   },
   "source": [
    "**imunodepressao**\n",
    "\n",
    "Os valores faltantes serão substituídos pela mediana do atributo, para que todos os valores desse atributo sejam numéricos."
   ]
  },
  {
   "cell_type": "code",
   "execution_count": null,
   "metadata": {
    "colab": {
     "base_uri": "https://localhost:8080/",
     "height": 488
    },
    "id": "-FW8vXO4TtMS",
    "outputId": "7a4d1d6d-6071-4a05-a63a-04ed4d1f5cf7"
   },
   "outputs": [],
   "source": [
    "replace_na_values_with_median(dataframe, \"imunodepressao\")"
   ]
  },
  {
   "cell_type": "markdown",
   "metadata": {
    "id": "DrPuPqFeTtMS"
   },
   "source": [
    "**obesidade**\n",
    "\n",
    "Os valores faltantes serão substituídos pela mediana do atributo, para que todos os valores desse atributo sejam numéricos."
   ]
  },
  {
   "cell_type": "code",
   "execution_count": null,
   "metadata": {
    "colab": {
     "base_uri": "https://localhost:8080/",
     "height": 488
    },
    "id": "14i-eH4RTtMS",
    "outputId": "e19a1425-6957-4e66-b9cc-1d28373353a0"
   },
   "outputs": [],
   "source": [
    "replace_na_values_with_median(dataframe, \"obesidade\")"
   ]
  },
  {
   "cell_type": "markdown",
   "metadata": {
    "id": "1g4tUnH0TtMT"
   },
   "source": [
    "**pneumopatia**\n",
    "\n",
    "Os valores faltantes serão substituídos pela mediana do atributo, para que todos os valores desse atributo sejam numéricos."
   ]
  },
  {
   "cell_type": "code",
   "execution_count": null,
   "metadata": {
    "colab": {
     "base_uri": "https://localhost:8080/",
     "height": 488
    },
    "id": "bqYlaQiMTtMT",
    "outputId": "b8a3b574-0662-45d6-e240-50f4404fccdd"
   },
   "outputs": [],
   "source": [
    "replace_na_values_with_median(dataframe, \"pneumopatia\")"
   ]
  },
  {
   "cell_type": "markdown",
   "metadata": {
    "id": "IXDqkuOrTtMU"
   },
   "source": [
    "**puerpera**\n",
    "\n",
    "Os valores faltantes serão substituídos pela mediana do atributo, para que todos os valores desse atributo sejam numéricos."
   ]
  },
  {
   "cell_type": "code",
   "execution_count": null,
   "metadata": {
    "colab": {
     "base_uri": "https://localhost:8080/",
     "height": 488
    },
    "id": "XwpHdOwwTtMU",
    "outputId": "ea8a3c25-318b-4ce6-c93c-0043e64b6d9c"
   },
   "outputs": [],
   "source": [
    "replace_na_values_with_median(dataframe, \"puerpera\")"
   ]
  },
  {
   "cell_type": "markdown",
   "metadata": {
    "id": "n1uYVOuuTtMU"
   },
   "source": [
    "**sindrome_de_down**\n",
    "\n",
    "Os valores faltantes serão substituídos pela mediana do atributo, para que todos os valores desse atributo sejam numéricos."
   ]
  },
  {
   "cell_type": "code",
   "execution_count": null,
   "metadata": {
    "colab": {
     "base_uri": "https://localhost:8080/",
     "height": 488
    },
    "id": "Wlu0mPGFTtMU",
    "outputId": "c23ba582-8b62-4fa1-f188-72178e84f3ca"
   },
   "outputs": [],
   "source": [
    "replace_na_values_with_median(dataframe, \"sindrome_de_down\")"
   ]
  },
  {
   "cell_type": "markdown",
   "metadata": {
    "id": "IBzopCwilY07"
   },
   "source": [
    "A célula a seguir gera um arquivo csv a partir do dataframe obtido após as substituições de valores. Uma cópia desse arquivo está no repositório, no arquivo \"substitution_result.zip\"."
   ]
  },
  {
   "cell_type": "code",
   "execution_count": null,
   "metadata": {
    "id": "NzZvrqmahRVR"
   },
   "outputs": [],
   "source": [
    "#dataframe.to_csv(\"substitution_result.csv\", sep = \";\", compression = None)"
   ]
  },
  {
   "cell_type": "markdown",
   "metadata": {
    "id": "pL3RZhx_apuM"
   },
   "source": [
    "## **Modelagem e treinamento**\n",
    "\n",
    "Os algoritmos selecionados para teste são de classificação, pois o problema neste MVP é de classificação:\n",
    "\n",
    "1. Regressão logística, pois o problema tratado neste trabalho parece bastante de regressão logística, em que a saída do modelo é mapeada para a classe \"Mais chance de óbito\" ou para a classe \"Menos chance de óbito\", cada uma representando um valor binário.\n",
    "\n",
    "2. Naive Bayes, por ser um classificador genérico e de aprendizado dinâmico, além de ser rápido computacionalmente, não necessitar de muitos dados de treinamento e ser adequado para *datasets* com muitos atributos, como o que está sendo usado neste trabalho.\n",
    "\n",
    "3. SVM, por exigir poucos ajustes, tender a apresentar boa acurácia e ser menos propenso a *overfitting*\n",
    "\n",
    "Os outros algortimos abordados na aula de classificação **não** foram escolhidos, por questões de performance com *datasets* grandes (KNN), ou por serem sensíveis a características irrelevantes (árvore de classificação).\n",
    "\n",
    "Inicialmente, não foi feita nenhuma alteração nos hiperparâmetros."
   ]
  },
  {
   "cell_type": "markdown",
   "metadata": {
    "id": "KCpKGeyMcSVk"
   },
   "source": [
    "#### **Refinamento da quantidade de atributos (*feature selection*)**\n",
    "\n",
    "\n"
   ]
  },
  {
   "cell_type": "code",
   "execution_count": null,
   "metadata": {
    "colab": {
     "base_uri": "https://localhost:8080/",
     "height": 488
    },
    "id": "WXZh9HPvTtMW",
    "outputId": "e81c3bd5-e2fd-4b91-a193-06a7e256659a"
   },
   "outputs": [],
   "source": [
    "dataframe"
   ]
  },
  {
   "cell_type": "code",
   "execution_count": null,
   "metadata": {
    "id": "7q_gQMtSbWau"
   },
   "outputs": [],
   "source": [
    "array = dataframe.values\n",
    "column_names = dataframe.columns.values.tolist()\n",
    "\n",
    "columns = list(range(len(column_names)))\n",
    "obito_index = column_names.index(\"obito\")\n",
    "obito_index\n",
    "\n",
    "columns.remove(obito_index)\n",
    "\n",
    "X = array[:, columns]\n",
    "raw_y = array[:, obito_index].reshape(-1, 1).tolist() # Coluna \"obito\"\n",
    "\n",
    "y = list()\n",
    "for element in raw_y:\n",
    "    y += element\n",
    "y = [int(element) for element in y]\n"
   ]
  },
  {
   "cell_type": "code",
   "execution_count": null,
   "metadata": {
    "id": "jO6MwDwoTtMW"
   },
   "outputs": [],
   "source": [
    "dataframe = dataframe.infer_objects()"
   ]
  },
  {
   "cell_type": "code",
   "execution_count": null,
   "metadata": {
    "colab": {
     "base_uri": "https://localhost:8080/",
     "height": 863
    },
    "id": "_YdZO6LUc1BK",
    "outputId": "418fe09d-5fe6-49f2-e8c8-cc4cb0530116"
   },
   "outputs": [],
   "source": [
    "# SelectKBest\n",
    "\n",
    "# Seleção de atributos com SelectKBest\n",
    "best_var = SelectKBest(score_func = f_classif, k = 10)\n",
    "\n",
    "# Executa a função de pontuação em (X, y) e obtém os atributos selecionados\n",
    "fit = best_var.fit(X, y)\n",
    "\n",
    "# Reduz X para os atributos selecionados\n",
    "features = fit.transform(X)\n",
    "\n",
    "# Resultados\n",
    "print('\\nNúmero original de atributos:', X.shape[1])\n",
    "print('\\nNúmero reduzido de atributos:', features.shape[1])\n",
    "\n",
    "# Exibe os atributos orginais\n",
    "print(\"\\nAtributos Originais:\", dataframe.columns.values[columns])\n",
    "\n",
    "# Exibe as pontuações de cada atributos e os 4 escolhidas (com as pontuações mais altas)\n",
    "np.set_printoptions(precision=3) # 3 casas decimais\n",
    "print(\"\\nScores dos Atributos Originais:\", fit.scores_)\n",
    "selected_columns = best_var.get_feature_names_out(input_features = dataframe.columns.values[columns])\n",
    "print(\"\\nAtributos Selecionados:\", selected_columns)\n",
    "\n",
    "previous_dataframe = dataframe.copy()\n",
    "#dataframe = dataframe[selected_columns]\n",
    "dataframe"
   ]
  },
  {
   "cell_type": "markdown",
   "metadata": {
    "id": "huJGNB1NTtMX"
   },
   "source": [
    "#### **Treinamento**"
   ]
  },
  {
   "cell_type": "code",
   "execution_count": null,
   "metadata": {
    "id": "X2DKB1dhTtMX"
   },
   "outputs": [],
   "source": [
    "def evaluate_model_based_on_scoring(models, X_train, y_train, kfold, scoring):\n",
    "    results = list()\n",
    "    names = list()\n",
    "\n",
    "    # Avaliando um modelo por vez\n",
    "    for name, model in models:\n",
    "      cv_results = cross_val_score(model, X_train, y_train, cv = kfold, scoring = scoring, error_score = \"raise\")\n",
    "      results.append(cv_results)\n",
    "      names.append(name)\n",
    "      msg = \"%s: %f (%f)\" % (name, cv_results.mean(), cv_results.std()) # média e desvio padrão dos 10 resultados da validação cruzada\n",
    "      print(msg)\n",
    "\n",
    "    # Boxplot de comparação dos modelos\n",
    "    fig = plt.figure()\n",
    "    fig.suptitle('Comparação dos modelos com base na métrica ' + scoring)\n",
    "    ax = fig.add_subplot(111)\n",
    "    plt.boxplot(results)\n",
    "    ax.set_xticklabels(names)\n",
    "    plt.show()\n"
   ]
  },
  {
   "cell_type": "code",
   "execution_count": null,
   "metadata": {
    "colab": {
     "base_uri": "https://localhost:8080/",
     "height": 1000
    },
    "id": "WLPsarSw6bfV",
    "outputId": "a707a2d2-dde3-46eb-9214-6501a5dc9ba6"
   },
   "outputs": [],
   "source": [
    "test_size = 0.25\n",
    "seed = 7\n",
    "X_train, X_test, y_train, y_test = train_test_split(X, y, test_size = 0.25, random_state = seed)\n",
    "\n",
    "num_particoes = 10\n",
    "kfold = StratifiedKFold(n_splits=num_particoes, shuffle=True, random_state=seed) # validação cruzada com estratifi\n",
    "\n",
    "np.random.seed(seed) # definindo uma semente global\n",
    "\n",
    "scoring_list = ['accuracy', 'precision', 'recall', 'jaccard']\n",
    "\n",
    "for scoring in scoring_list:\n",
    "    models = list()\n",
    "\n",
    "    # Preparando os modelos e adicionando-os em uma lista\n",
    "    models.append(('Regressão Logística', LogisticRegression(max_iter=200)))\n",
    "    models.append(('Naive Bayes', GaussianNB()))\n",
    "    models.append(('SVM', SVC()))\n",
    "\n",
    "    evaluate_model_based_on_scoring(models, X_train, y_train, kfold, scoring)\n",
    "\n"
   ]
  },
  {
   "cell_type": "markdown",
   "metadata": {
    "id": "feKyt3FPTtMX"
   },
   "source": [
    "## **Avaliação de resultados**\n",
    "\n",
    "Percebe-se que o modelo de regressão logística teve um resultado um pouco melhor, embora o Naive Bayes tenha tido um bom resultado para algumas métricas. Assim, o modelo de regressão logística será utilizado para o treinamento do conjunto de treino inteiro, e para as predições com o conjunto de teste."
   ]
  },
  {
   "cell_type": "code",
   "execution_count": null,
   "metadata": {
    "colab": {
     "base_uri": "https://localhost:8080/"
    },
    "id": "LN4bTvYxTtMX",
    "outputId": "b8255b23-2694-4e44-a780-bcd0a238b68a"
   },
   "outputs": [],
   "source": [
    "def get_scoring_values(model, X_train, y_train, X_test, y_test):\n",
    "    # Criando um modelo com todo o conjunto de treino\n",
    "    model[1].fit(X_train, y_train)\n",
    "\n",
    "    # Fazendo as predições com o conjunto de teste\n",
    "    predictions = model[1].predict(X_test)\n",
    "\n",
    "    # Estimando valor de métricas no conjunto de teste\n",
    "    print(\"Métricas para o modelo \" + model[0])\n",
    "    print(accuracy_score(y_test, predictions))\n",
    "    print(precision_score(y_test, predictions))\n",
    "    print(jaccard_score(y_test, predictions))\n",
    "    print(recall_score(y_test, predictions))\n",
    "    print(\"\\n\")\n",
    "\n",
    "model = ('Regressão Logística', LogisticRegression(max_iter=200))\n",
    "get_scoring_values(model, X_train, y_train, X_test, y_test)"
   ]
  },
  {
   "cell_type": "markdown",
   "metadata": {
    "id": "5HydfsZ6TtMY"
   },
   "source": [
    "Assim, observa-se que o modelo realmente teve uma acurácia muito boa (muito próxima de 1). Com base nisso, não parece haver muita necessidade de otimizar hiperparâmetros, ou de métodos mais avançados e/ou complexos, ou de *ensembles*. Conforme visto nas aulas, é muito difícil conseguir um ótimo valor para todas as métricas.\n",
    "\n",
    "Além disso, não parece ter havido overfitting nem de underfitting, pois o valor da acurácia do conjunto de treino e o do conjunto de teste são próximos."
   ]
  },
  {
   "cell_type": "markdown",
   "metadata": {
    "id": "G32kDaTpTtMY"
   },
   "source": [
    "#### **Comparação com outros modelos utilizando conjunto de teste**"
   ]
  },
  {
   "cell_type": "code",
   "execution_count": null,
   "metadata": {
    "colab": {
     "base_uri": "https://localhost:8080/"
    },
    "id": "neUokkdgTtMY",
    "outputId": "59b7bd40-71d0-4caf-fcb7-a9127e4cec3e"
   },
   "outputs": [],
   "source": [
    "models = list()\n",
    "models.append(('Regressão Logística', LogisticRegression(max_iter=200)))\n",
    "models.append(('Naive Bayes', GaussianNB()))\n",
    "models.append(('SVM', SVC()))\n",
    "\n",
    "for model in models:\n",
    "    get_scoring_values(model, X_train, y_train, X_test, y_test)"
   ]
  },
  {
   "cell_type": "code",
   "execution_count": null,
   "metadata": {
    "colab": {
     "base_uri": "https://localhost:8080/"
    },
    "id": "MGWRgbVeTtMY",
    "outputId": "d6ee75da-2319-4749-87a1-6e60ac4330b5"
   },
   "outputs": [],
   "source": [
    "def predict_by_color(predictions, X_test, target_index):\n",
    "    matches = 0\n",
    "    num_elements = len(X_test)\n",
    "    for i in range(num_elements):\n",
    "        element = X_test[i]\n",
    "        if element[target_index] == 1 and predictions[i] == 1:\n",
    "            matches += 1\n",
    "    percentage = 100 * matches / num_elements\n",
    "    print(\"Porcentagem de pessoas falecidas: \" + str(percentage) + \"%\")\n",
    "\n",
    "column_names = dataframe.columns.values.tolist()\n",
    "num_names = len(column_names)\n",
    "columns = list(range(num_names))\n",
    "raca_dict = dict()\n",
    "\n",
    "for i in range(num_names):\n",
    "    name = column_names[i]\n",
    "    if \"raca_cor\" in name and name not in raca_dict:\n",
    "        key = name.replace(\"raca_cor_\", \"\")\n",
    "        raca_dict[key] = i\n",
    "\n",
    "branca_index = raca_dict[\"BRANCA\"]\n",
    "negra_index = raca_dict[\"PRETA\"]\n",
    "parda_index = raca_dict[\"PARDA\"]\n",
    "\n",
    "predictions = models[0][1].predict(X_test) # Predições utilizando o modelo de regressão logística\n",
    "\n",
    "print(\"BRANCOS:\\n\")\n",
    "predict_by_color(predictions, X_test, branca_index)\n",
    "\n",
    "print(\"\\nNEGROS:\\n\")\n",
    "predict_by_color(predictions, X_test, negra_index)\n",
    "\n",
    "print(\"\\nPARDOS:\\n\")\n",
    "predict_by_color(predictions, X_test, parda_index)\n"
   ]
  },
  {
   "cell_type": "markdown",
   "metadata": {
    "id": "ECj2ntjgTtMZ"
   },
   "source": [
    "Portanto, com base nesse modelo, os afrodescendentes (negros + pardos) tendem a falecer de covid-19 com mais frequência do que os brancos. Além disso, observa-se que, utilizando o conjunto de teste, o modelo de regressão logística teve um resultado melhor que o do Naive Bayes, mas com o valor de acurácia muito parecido com o do SVM."
   ]
  },
  {
   "cell_type": "markdown",
   "metadata": {},
   "source": [
    "## **Salvando o modelo treinado em um arquivo**\n"
   ]
  },
  {
   "cell_type": "code",
   "execution_count": null,
   "metadata": {},
   "outputs": [],
   "source": [
    "import pickle\n",
    "pickle_out = open('classificador.pkl', 'wb')\n",
    "pickle.dump(model, pickle_out)\n",
    "pickle_out.close()"
   ]
  },
  {
   "cell_type": "code",
   "execution_count": null,
   "metadata": {},
   "outputs": [],
   "source": []
  }
 ],
 "metadata": {
  "colab": {
   "provenance": []
  },
  "kernelspec": {
   "display_name": "Python 3 (ipykernel)",
   "language": "python",
   "name": "python3"
  },
  "language_info": {
   "codemirror_mode": {
    "name": "ipython",
    "version": 3
   },
   "file_extension": ".py",
   "mimetype": "text/x-python",
   "name": "python",
   "nbconvert_exporter": "python",
   "pygments_lexer": "ipython3",
   "version": "3.10.12"
  }
 },
 "nbformat": 4,
 "nbformat_minor": 4
}
